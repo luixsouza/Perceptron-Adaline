{
  "nbformat": 4,
  "nbformat_minor": 0,
  "metadata": {
    "colab": {
      "provenance": [],
      "authorship_tag": "ABX9TyNP2WPWK8fAwigr16KB+tLE",
      "include_colab_link": true
    },
    "kernelspec": {
      "name": "python3",
      "display_name": "Python 3"
    },
    "language_info": {
      "name": "python"
    }
  },
  "cells": [
    {
      "cell_type": "markdown",
      "metadata": {
        "id": "view-in-github",
        "colab_type": "text"
      },
      "source": [
        "<a href=\"https://colab.research.google.com/github/luixsouza/Perceptron-Adaline/blob/main/Perceptron%7CAdaline.ipynb\" target=\"_parent\"><img src=\"https://colab.research.google.com/assets/colab-badge.svg\" alt=\"Open In Colab\"/></a>"
      ]
    },
    {
      "cell_type": "code",
      "execution_count": 4,
      "metadata": {
        "colab": {
          "base_uri": "https://localhost:8080/"
        },
        "id": "6AeijpWVGA8Y",
        "outputId": "90533c4f-a029-4885-b9ce-17ce5eb9e007"
      },
      "outputs": [
        {
          "output_type": "stream",
          "name": "stdout",
          "text": [
            "=== Testes com Perceptron ===\n",
            "\n",
            "AND - Perceptron\n",
            "Previsões: [0 0 0 1]\n",
            "Acurácia : 1.0\n",
            "\n",
            "OR - Perceptron\n",
            "Previsões: [0 1 1 1]\n",
            "Acurácia : 1.0\n",
            "\n",
            "XOR (esperado: falha) - Perceptron\n",
            "Previsões: [0 0 0 0]\n",
            "Acurácia : 0.5\n",
            "\n",
            "=== Testes com Adaline ===\n",
            "\n",
            "AND - Adaline\n",
            "Previsões: [0 0 0 0]\n",
            "Acurácia : 0.75\n",
            "\n",
            "OR - Adaline\n",
            "Previsões: [0 1 1 1]\n",
            "Acurácia : 1.0\n",
            "\n",
            "XOR (esperado: falha) - Adaline\n",
            "Previsões: [0 0 0 0]\n",
            "Acurácia : 0.5\n"
          ]
        }
      ],
      "source": [
        "# Algoritmos de Classificação com Tabelas Verdade AND, OR, XOR\n",
        "# Autor: Luis Eduardo Souza Teles\n",
        "# Curso: Engenharia de Software\n",
        "# Disciplina: Introdução à I.A.\n",
        "\n",
        "# Importação das bibliotecas necessárias\n",
        "import numpy as np\n",
        "from sklearn.linear_model import Perceptron\n",
        "from sklearn.metrics import accuracy_score\n",
        "\n",
        "# ===== 1. Dados: Tabelas Verdade =====\n",
        "X = np.array([[0, 0],\n",
        "              [0, 1],\n",
        "              [1, 0],\n",
        "              [1, 1]])\n",
        "\n",
        "y_and = np.array([0, 0, 0, 1])\n",
        "y_or  = np.array([0, 1, 1, 1])\n",
        "y_xor = np.array([0, 1, 1, 0])\n",
        "\n",
        "# ===== 2. Perceptron =====\n",
        "def treinar_perceptron(X, y, nome):\n",
        "    clf = Perceptron()\n",
        "    clf.fit(X, y)\n",
        "    pred = clf.predict(X)\n",
        "    acc = accuracy_score(y, pred)\n",
        "    print(f\"\\n{nome} - Perceptron\")\n",
        "    print(\"Previsões:\", pred)\n",
        "    print(\"Acurácia :\", acc)\n",
        "\n",
        "# ===== 3. Adaline (implementação manual) =====\n",
        "class AdalineGD:\n",
        "    def __init__(self, eta=0.01, n_iter=50):\n",
        "        self.eta = eta\n",
        "        self.n_iter = n_iter\n",
        "\n",
        "    def fit(self, X, y):\n",
        "        self.w_ = np.zeros(1 + X.shape[1])\n",
        "        self.cost_ = []\n",
        "\n",
        "        for _ in range(self.n_iter):\n",
        "            net_input = self.net_input(X)\n",
        "            output = self.activation(net_input)\n",
        "            errors = y - output\n",
        "            self.w_[1:] += self.eta * X.T.dot(errors)\n",
        "            self.w_[0] += self.eta * errors.sum()\n",
        "            cost = (errors ** 2).sum() / 2.0\n",
        "            self.cost_.append(cost)\n",
        "        return self\n",
        "\n",
        "    def net_input(self, X):\n",
        "        return np.dot(X, self.w_[1:]) + self.w_[0]\n",
        "\n",
        "    def activation(self, X):\n",
        "        return X  # Função identidade (linear)\n",
        "\n",
        "    def predict(self, X):\n",
        "        return np.where(self.activation(self.net_input(X)) >= 0.5, 1, 0)\n",
        "\n",
        "def treinar_adaline(X, y, nome):\n",
        "    ada = AdalineGD(eta=0.01, n_iter=20)\n",
        "    ada.fit(X, y)\n",
        "    pred = ada.predict(X)\n",
        "    acc = accuracy_score(y, pred)\n",
        "    print(f\"\\n{nome} - Adaline\")\n",
        "    print(\"Previsões:\", pred)\n",
        "    print(\"Acurácia :\", acc)\n",
        "\n",
        "# ===== 4. Testes =====\n",
        "print(\"=== Testes com Perceptron ===\")\n",
        "treinar_perceptron(X, y_and, \"AND\")\n",
        "treinar_perceptron(X, y_or,  \"OR\")\n",
        "treinar_perceptron(X, y_xor, \"XOR (esperado: falha)\")\n",
        "\n",
        "print(\"\\n=== Testes com Adaline ===\")\n",
        "treinar_adaline(X, y_and, \"AND\")\n",
        "treinar_adaline(X, y_or,  \"OR\")\n",
        "treinar_adaline(X, y_xor, \"XOR (esperado: falha)\")"
      ]
    }
  ]
}